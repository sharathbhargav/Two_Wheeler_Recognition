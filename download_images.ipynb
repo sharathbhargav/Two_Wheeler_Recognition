{
 "cells": [
  {
   "cell_type": "code",
   "execution_count": 1,
   "metadata": {},
   "outputs": [],
   "source": [
    "from google_images_download import google_images_download  \n",
    "\n",
    "# creating object \n",
    "response = google_images_download.googleimagesdownload()\n",
    "\n",
    "def downloadimages(query,n=50): \n",
    "    # keywords is the search query \n",
    "    # format is the image file format \n",
    "    # limit is the number of images to be downloaded \n",
    "    # print urs is to print the image file url \n",
    "    # size is the image size which can \n",
    "    # be specified manually (\"large, medium, icon\") \n",
    "    # aspect ratio denotes the height width ratio \n",
    "    # of images to download. (\"tall, square, wide, panoramic\") \n",
    "    arguments = {\"keywords\": query, \n",
    "                 \"format\": \"jpg\", \n",
    "                 \"limit\":n, \n",
    "                } \n",
    "    try: \n",
    "        response.download(arguments) \n",
    "      \n",
    "    # Handling File NotFound Error     \n",
    "    except FileNotFoundError:  \n",
    "        arguments = {\"keywords\": query, \n",
    "                     \"format\": \"jpg\", \n",
    "                     \"limit\":n, \n",
    "                    } \n",
    "                       \n",
    "        # Providing arguments for the searched query \n",
    "        try: \n",
    "            # Downloading the photos based \n",
    "            # on the given arguments \n",
    "            response.download(arguments)  \n",
    "        except: \n",
    "            pass\n",
    "  \n",
    "# Driver Code \n"
   ]
  },
  {
   "cell_type": "code",
   "execution_count": 10,
   "metadata": {},
   "outputs": [],
   "source": [
    "search_queries_shoes = [\"Adidas Kampung\",\n",
    "\"Ballet shoe\",\n",
    "\"Pointe shoe\",\n",
    "\"Bast shoe\",\n",
    "\"Blucher shoe\",\n",
    "\"Boat shoe\",\n",
    "\"Brogan (shoes)\",\n",
    "\"Brogue shoe\",\n",
    "\"Brothel creeper shoes\",\n",
    "\"Bucks shoes\",\n",
    "\"Cantabrian albarcas shoes\",\n",
    "\"Chelsea boot\",\n",
    "\"Chopine shoes\",\n",
    "\"Chukka boot shoes\",\n",
    "\"Climbing shoe\",\n",
    "\"Clog shoes\",\n",
    "\"pump shoes\",\n",
    "\"Cross country running shoe\",\n",
    "\"Derby shoe\",\n",
    "\"Desert Boot\",\n",
    "\"Diabetic shoe\",\n",
    "\"Dress shoe\",\n",
    "\"Duckbill shoe\",\n",
    "\"Driving moccasins shoes\",\n",
    "\"Earth shoe\",\n",
    "\"Elevator shoes\",\n",
    "\"Espadrille shoes\",\n",
    "\"Fashion boot\",\n",
    "\"Galesh shoes\",\n",
    "\"Geta shoes\",\n",
    "\"Giveh shoes\",\n",
    "\"High-heeled footwear\",\n",
    "\"Venetian loafers\",\n",
    "\"Huarache (shoe)\",\n",
    "\"Jazz shoe\",\n",
    "\"Jelly shoes\",\n",
    "\"Jutti shoes\",\n",
    "\"Kitten heel\",\n",
    "\"Kolhapuri Chappal\",\n",
    "\"Loafers\",\n",
    "\"Lotus shoes\",\n",
    "\"Mary Jane shoes\",\n",
    "\"Mojari shoes\",\n",
    "\"Moccasin shoes\",\n",
    "\"Monk shoe\",\n",
    "\"Mule shoes\",\n",
    "\"Opanak shoes\",\n",
    "\"Opinga shoes\",\n",
    "\"Organ shoes\",\n",
    "\"Orthopaedic footwear\",\n",
    "\"Over-the-knee boot\",\n",
    "\"Oxford shoe\",\n",
    "\"Pampootie shoes\",\n",
    "\"Peep-toe shoe\",\n",
    "\"Peranakan beaded slippers\",\n",
    "\"Peshawari chappal\",\n",
    "\"Platform shoe\",\n",
    "\"Pointed shoe\",\n",
    "\"Pointinini shoes\",\n",
    "\"Riding boots\",\n",
    "\"Rocker bottom shoe\",\n",
    "\"Ruby slippers\",\n",
    "\"Russian boot\",\n",
    "\"Saddle shoe\",\n",
    "\"Sailing boots\",\n",
    "\"Sandal shoes\",\n",
    "\"Silver Shoes\",\n",
    "\"Slingback shoes\",\n",
    "\"Slip-on shoe\",\n",
    "\"Slipper\",\n",
    "\"Sneakers\",\n",
    "\"Snow boot\",\n",
    "\"Spectator shoe\",\n",
    "\"Spool heel\",\n",
    "\"Steel-toe boot\",\n",
    "\"Stiletto heel\",\n",
    "\"T-bar sandal\",\n",
    "\"Tiger-head shoes\",\n",
    "\"Toe shoe\",\n",
    "\"Tsarouhi shoes\",\n",
    "\"Turnshoe shoes\",\n",
    "\"Venetian-style shoe\",\n",
    "\"Wedge shoes\",\n",
    "\"Wellington boot\",\n",
    "\"Winklepicker shoes\",\n",
    "\"Wörishofer shoes\"] "
   ]
  },
  {
   "cell_type": "code",
   "execution_count": 2,
   "metadata": {},
   "outputs": [
    {
     "name": "stdout",
     "output_type": "stream",
     "text": [
      "29\n"
     ]
    }
   ],
   "source": [
    "two_wheeler_list = [\n",
    "    \"Honda Activa 5G\",\n",
    "    \"TVS NTORQ 125\",\n",
    "    \"Honda Dio\",\n",
    "    \"TVS Jupiter\",\n",
    "    \"Yamaha Fascino\",\n",
    "    \"Honda Activa 125\",\n",
    "    \"Hero Pleasure\",\n",
    "    \"Aprilia SR 150\",\n",
    "    \"Hero Duet\",\n",
    "    \"Hero Maestro Edge\",\n",
    "    \"Yamaha Ray ZR\",\n",
    "    \"Honda Aviator\",\n",
    "    \"Honda Activa i\",\n",
    "    \"Yamaha Alpha\",\n",
    "    \"Avon E Bike\",\n",
    "    \"TVS Wego\",\n",
    "    \"Avon E Lite\",\n",
    "    \"TVS XL 100\",\n",
    "    \"Yamaha Ray Z\",\n",
    "    \"Honda Grazia\",\n",
    "    \"Okinawa Praise\",\n",
    "    \"TVS Scooty Pep Plus\",\n",
    "    \"TVS Scooty Zest\",\n",
    "    \"Honda CLIQ\",\n",
    "    \"Vespa SXL 150\",\n",
    "    \"Okinawa Ridge\",\n",
    "    \"Vespa VXL 125\",\n",
    "    \"Hero Dare\",\n",
    "    \"AVON E Mate\"\n",
    "]\n",
    "two_wheeler_list_back = [\n",
    "    \"Honda Activa 5G back view\",\n",
    "    \"TVS NTORQ 125 back view\",\n",
    "    \"Honda Dio back view\",\n",
    "    \"TVS Jupiter back view\",\n",
    "    \"Yamaha Fascino back view\",\n",
    "    \"Honda Activa 125 back view\",\n",
    "    \"Hero Pleasure back view\",\n",
    "    \"Aprilia SR 150 back view\",\n",
    "    \"Hero Duet back view\",\n",
    "    \"Hero Maestro Edge back view\",\n",
    "    \"Yamaha Ray ZR back view\",\n",
    "    \"Honda Aviator back view\",\n",
    "    \"Honda Activa i back view\",\n",
    "    \"Yamaha Alpha back view\",\n",
    "    \"Avon E Bike back view\",\n",
    "    \"TVS Wego back view\",\n",
    "    \"Avon E Lite back view\",\n",
    "    \"TVS XL 100 back view\",\n",
    "    \"Yamaha Ray Z back view\",\n",
    "    \"Honda Grazia back view\",\n",
    "    \"Okinawa Praise back view\",\n",
    "    \"TVS Scooty Pep Plus back view\",\n",
    "    \"TVS Scooty Zest back view\",\n",
    "    \"Honda CLIQ back view\",\n",
    "    \"Vespa SXL 150 back view\",\n",
    "    \"Okinawa Ridge back view\",\n",
    "    \"Vespa VXL 125 back view\",\n",
    "    \"Hero Dare back view\",\n",
    "    \"AVON E Mate back view\"\n",
    "]\n",
    "test_wheeler = [\"Aprilia SR 150\"]\n",
    "print(len(two_wheeler_list))"
   ]
  },
  {
   "cell_type": "code",
   "execution_count": 28,
   "metadata": {},
   "outputs": [
    {
     "name": "stdout",
     "output_type": "stream",
     "text": [
      "Downloading  Vespa VXL 125 backside view. \n",
      "\n",
      "Item no.: 1 --> Item name = Vespa VXL 125 backside view. \n",
      "Evaluating...\n",
      "Starting Download...\n",
      "Completed Image ====> 1.piaggio-vespa-vxl-125.jpg\n",
      "Completed Image ====> 2.vespa-125-1464785913.jpg\n",
      "Completed Image ====> 3.v_vxl-125-cbs1545992188.jpg\n",
      "Completed Image ====> 4.vespa-vxl-125.jpg\n",
      "Completed Image ====> 5.piaggio-vespa-town-black.jpg\n",
      "Completed Image ====> 6.vxl-150-right-side-view_360x240.jpg\n",
      "Completed Image ====> 7.sxl-125-azzurre-blue-500x500.jpg\n",
      "Completed Image ====> 8.vespa-vxl-125-matte-black-500x500.jpg\n",
      "Completed Image ====> 9.925771433s.jpg\n",
      "Completed Image ====> 10.53655558f071c7ddbc264b072fecef43_extra_large.jpg\n",
      "Completed Image ====> 11.vespa-vxl-125-white-1486700563229.jpg\n",
      "Completed Image ====> 12.piaggio-vespa-vxl-125_yellow1_1535459884.jpg\n",
      "Completed Image ====> 13.vespa-sxl-125-640.jpg\n",
      "Completed Image ====> 14.30723_Vespa_SXL_150_003.jpg\n",
      "Completed Image ====> 15.5caed53ca5c87c0001a6bd47.jpg\n",
      "Completed Image ====> 16.hqdefault.jpg\n",
      "Completed Image ====> 17.red-right-side-view_600x400.jpg\n",
      "Wrong image format returned. Skipping...\n",
      "Completed Image ====> 18.v_piaggio-vespa-vxl-1501534254776.jpg\n",
      "Completed Image ====> 19.Vespa_VXL_150-featured-1-562x309.jpg\n",
      "Completed Image ====> 20..jpg\n",
      "\n",
      "Errors: 1\n",
      "\n",
      "0  th item done\n"
     ]
    }
   ],
   "source": [
    "for i,query in enumerate([\"Vespa VXL 125 backside view. \"]): \n",
    "    print(\"Downloading \",query)\n",
    "    downloadimages(query,20)  \n",
    "    print(i,\" th item done\")  "
   ]
  },
  {
   "cell_type": "code",
   "execution_count": 32,
   "metadata": {},
   "outputs": [
    {
     "name": "stdout",
     "output_type": "stream",
     "text": [
      "downloads\n",
      "['TVS NTORQ 125 back view', 'Vespa SXL 150 back view', 'Honda CLIQ backside view', 'Honda Aviator back view', 'Hero Pleasure back view.', 'Vespa VXL 125 backside view. ', 'Honda Dio backside view.', 'TVS Scooty Zest back view. ', 'TVS Scooty Pep Plus back view', 'Hero Maestro Edge back view']\n",
      "['TVS NTORQ 125 back view', 'Vespa SXL 150 back view', 'Honda CLIQ backside view', 'Honda Aviator back view', 'Hero Pleasure back view.', 'Vespa VXL 125 backside view. ', 'Honda Dio backside view.', 'TVS Scooty Zest back view. ', 'TVS Scooty Pep Plus back view', 'Hero Maestro Edge back view']\n",
      "TVS NTORQ 125 back view\n"
     ]
    },
    {
     "data": {
      "text/html": [],
      "text/plain": [
       "<IPython.core.display.HTML object>"
      ]
     },
     "metadata": {},
     "output_type": "display_data"
    },
    {
     "name": "stdout",
     "output_type": "stream",
     "text": [
      "Vespa SXL 150 back view\n"
     ]
    },
    {
     "data": {
      "text/html": [],
      "text/plain": [
       "<IPython.core.display.HTML object>"
      ]
     },
     "metadata": {},
     "output_type": "display_data"
    },
    {
     "name": "stdout",
     "output_type": "stream",
     "text": [
      "Honda CLIQ backside view\n"
     ]
    },
    {
     "data": {
      "text/html": [],
      "text/plain": [
       "<IPython.core.display.HTML object>"
      ]
     },
     "metadata": {},
     "output_type": "display_data"
    },
    {
     "name": "stdout",
     "output_type": "stream",
     "text": [
      "Honda Aviator back view\n"
     ]
    },
    {
     "data": {
      "text/html": [],
      "text/plain": [
       "<IPython.core.display.HTML object>"
      ]
     },
     "metadata": {},
     "output_type": "display_data"
    },
    {
     "name": "stdout",
     "output_type": "stream",
     "text": [
      "Hero Pleasure back view.\n"
     ]
    },
    {
     "data": {
      "text/html": [],
      "text/plain": [
       "<IPython.core.display.HTML object>"
      ]
     },
     "metadata": {},
     "output_type": "display_data"
    },
    {
     "name": "stdout",
     "output_type": "stream",
     "text": [
      "Vespa VXL 125 backside view. \n"
     ]
    },
    {
     "data": {
      "text/html": [],
      "text/plain": [
       "<IPython.core.display.HTML object>"
      ]
     },
     "metadata": {},
     "output_type": "display_data"
    },
    {
     "name": "stdout",
     "output_type": "stream",
     "text": [
      "Honda Dio backside view.\n"
     ]
    },
    {
     "data": {
      "text/html": [],
      "text/plain": [
       "<IPython.core.display.HTML object>"
      ]
     },
     "metadata": {},
     "output_type": "display_data"
    },
    {
     "name": "stdout",
     "output_type": "stream",
     "text": [
      "TVS Scooty Zest back view. \n"
     ]
    },
    {
     "data": {
      "text/html": [],
      "text/plain": [
       "<IPython.core.display.HTML object>"
      ]
     },
     "metadata": {},
     "output_type": "display_data"
    },
    {
     "name": "stdout",
     "output_type": "stream",
     "text": [
      "TVS Scooty Pep Plus back view\n"
     ]
    },
    {
     "data": {
      "text/html": [],
      "text/plain": [
       "<IPython.core.display.HTML object>"
      ]
     },
     "metadata": {},
     "output_type": "display_data"
    },
    {
     "name": "stdout",
     "output_type": "stream",
     "text": [
      "Hero Maestro Edge back view\n"
     ]
    },
    {
     "data": {
      "text/html": [],
      "text/plain": [
       "<IPython.core.display.HTML object>"
      ]
     },
     "metadata": {},
     "output_type": "display_data"
    }
   ],
   "source": [
    "from fastai.vision import *\n",
    "dataset_path = Path(\"downloads\")\n",
    "print(dataset_path)\n",
    "print(os.listdir(dataset_path))\n",
    "dirs = os.listdir(dataset_path)# [name for name in os.listdir(dataset_path) if os.path.isdir(name)]\n",
    "print(dirs)\n",
    "for c in dirs:\n",
    "    print(c)\n",
    "    verify_images(dataset_path/c, delete=True, max_size=500)"
   ]
  },
  {
   "cell_type": "code",
   "execution_count": 17,
   "metadata": {},
   "outputs": [],
   "source": [
    "doc(verify_images)"
   ]
  },
  {
   "cell_type": "code",
   "execution_count": null,
   "metadata": {},
   "outputs": [],
   "source": []
  }
 ],
 "metadata": {
  "kernelspec": {
   "display_name": "Python [conda env:fast] *",
   "language": "python",
   "name": "conda-env-fast-py"
  },
  "language_info": {
   "codemirror_mode": {
    "name": "ipython",
    "version": 3
   },
   "file_extension": ".py",
   "mimetype": "text/x-python",
   "name": "python",
   "nbconvert_exporter": "python",
   "pygments_lexer": "ipython3",
   "version": "3.7.5"
  }
 },
 "nbformat": 4,
 "nbformat_minor": 2
}
